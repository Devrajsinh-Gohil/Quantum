{
 "cells": [
  {
   "cell_type": "code",
   "execution_count": 4,
   "metadata": {
    "collapsed": true,
    "ExecuteTime": {
     "end_time": "2023-06-28T06:22:06.741352Z",
     "start_time": "2023-06-28T06:22:06.532863Z"
    }
   },
   "outputs": [
    {
     "ename": "ImportError",
     "evalue": "cannot import name 'BaseBackend' from 'qiskit.providers' (/Users/devrajsinhgohil/opt/anaconda3/envs/ML/lib/python3.8/site-packages/qiskit/providers/__init__.py)",
     "output_type": "error",
     "traceback": [
      "\u001B[0;31m---------------------------------------------------------------------------\u001B[0m",
      "\u001B[0;31mImportError\u001B[0m                               Traceback (most recent call last)",
      "Cell \u001B[0;32mIn[4], line 9\u001B[0m\n\u001B[1;32m      7\u001B[0m \u001B[38;5;28;01mfrom\u001B[39;00m \u001B[38;5;21;01mqiskit\u001B[39;00m\u001B[38;5;21;01m.\u001B[39;00m\u001B[38;5;21;01malgorithms\u001B[39;00m \u001B[38;5;28;01mimport\u001B[39;00m NumPyMinimumEigensolver, VQE\n\u001B[1;32m      8\u001B[0m \u001B[38;5;28;01mfrom\u001B[39;00m \u001B[38;5;21;01mqiskit\u001B[39;00m\u001B[38;5;21;01m.\u001B[39;00m\u001B[38;5;21;01malgorithms\u001B[39;00m\u001B[38;5;21;01m.\u001B[39;00m\u001B[38;5;21;01moptimizers\u001B[39;00m \u001B[38;5;28;01mimport\u001B[39;00m SLSQP\n\u001B[0;32m----> 9\u001B[0m \u001B[38;5;28;01mfrom\u001B[39;00m \u001B[38;5;21;01mqiskit\u001B[39;00m\u001B[38;5;21;01m.\u001B[39;00m\u001B[38;5;21;01mchemistry\u001B[39;00m\u001B[38;5;21;01m.\u001B[39;00m\u001B[38;5;21;01mcomponents\u001B[39;00m\u001B[38;5;21;01m.\u001B[39;00m\u001B[38;5;21;01minitial_states\u001B[39;00m\u001B[38;5;21;01m.\u001B[39;00m\u001B[38;5;21;01mhartree_fock\u001B[39;00m \u001B[38;5;28;01mimport\u001B[39;00m HartreeFock\n\u001B[1;32m     10\u001B[0m \u001B[38;5;28;01mfrom\u001B[39;00m \u001B[38;5;21;01mqiskit\u001B[39;00m\u001B[38;5;21;01m.\u001B[39;00m\u001B[38;5;21;01mchemistry\u001B[39;00m\u001B[38;5;21;01m.\u001B[39;00m\u001B[38;5;21;01mcomponents\u001B[39;00m\u001B[38;5;21;01m.\u001B[39;00m\u001B[38;5;21;01mvariational_forms\u001B[39;00m \u001B[38;5;28;01mimport\u001B[39;00m UCCSD\n\u001B[1;32m     11\u001B[0m \u001B[38;5;28;01mfrom\u001B[39;00m \u001B[38;5;21;01mqiskit\u001B[39;00m\u001B[38;5;21;01m.\u001B[39;00m\u001B[38;5;21;01mchemistry\u001B[39;00m\u001B[38;5;21;01m.\u001B[39;00m\u001B[38;5;21;01mdrivers\u001B[39;00m \u001B[38;5;28;01mimport\u001B[39;00m PySCFDriver\n",
      "File \u001B[0;32m~/opt/anaconda3/envs/ML/lib/python3.8/site-packages/qiskit/chemistry/__init__.py:160\u001B[0m\n\u001B[1;32m    158\u001B[0m \u001B[38;5;28;01mfrom\u001B[39;00m \u001B[38;5;21;01m.\u001B[39;00m\u001B[38;5;21;01mqiskit_chemistry_error\u001B[39;00m \u001B[38;5;28;01mimport\u001B[39;00m QiskitChemistryError\n\u001B[1;32m    159\u001B[0m \u001B[38;5;28;01mfrom\u001B[39;00m \u001B[38;5;21;01m.\u001B[39;00m\u001B[38;5;21;01mqmolecule\u001B[39;00m \u001B[38;5;28;01mimport\u001B[39;00m QMolecule\n\u001B[0;32m--> 160\u001B[0m \u001B[38;5;28;01mfrom\u001B[39;00m \u001B[38;5;21;01m.\u001B[39;00m\u001B[38;5;21;01mfermionic_operator\u001B[39;00m \u001B[38;5;28;01mimport\u001B[39;00m FermionicOperator\n\u001B[1;32m    161\u001B[0m \u001B[38;5;28;01mfrom\u001B[39;00m \u001B[38;5;21;01m.\u001B[39;00m\u001B[38;5;21;01mmp2info\u001B[39;00m \u001B[38;5;28;01mimport\u001B[39;00m MP2Info\n\u001B[1;32m    162\u001B[0m \u001B[38;5;28;01mfrom\u001B[39;00m \u001B[38;5;21;01m.\u001B[39;00m\u001B[38;5;21;01m_logging\u001B[39;00m \u001B[38;5;28;01mimport\u001B[39;00m (get_qiskit_chemistry_logging,\n\u001B[1;32m    163\u001B[0m                        set_qiskit_chemistry_logging)\n",
      "File \u001B[0;32m~/opt/anaconda3/envs/ML/lib/python3.8/site-packages/qiskit/chemistry/fermionic_operator.py:26\u001B[0m\n\u001B[1;32m     23\u001B[0m \u001B[38;5;28;01mfrom\u001B[39;00m \u001B[38;5;21;01mqiskit\u001B[39;00m\u001B[38;5;21;01m.\u001B[39;00m\u001B[38;5;21;01mtools\u001B[39;00m \u001B[38;5;28;01mimport\u001B[39;00m parallel_map\n\u001B[1;32m     24\u001B[0m \u001B[38;5;28;01mfrom\u001B[39;00m \u001B[38;5;21;01mqiskit\u001B[39;00m\u001B[38;5;21;01m.\u001B[39;00m\u001B[38;5;21;01mtools\u001B[39;00m\u001B[38;5;21;01m.\u001B[39;00m\u001B[38;5;21;01mevents\u001B[39;00m \u001B[38;5;28;01mimport\u001B[39;00m TextProgressBar\n\u001B[0;32m---> 26\u001B[0m \u001B[38;5;28;01mfrom\u001B[39;00m \u001B[38;5;21;01mqiskit\u001B[39;00m\u001B[38;5;21;01m.\u001B[39;00m\u001B[38;5;21;01maqua\u001B[39;00m \u001B[38;5;28;01mimport\u001B[39;00m aqua_globals\n\u001B[1;32m     27\u001B[0m \u001B[38;5;28;01mfrom\u001B[39;00m \u001B[38;5;21;01mqiskit\u001B[39;00m\u001B[38;5;21;01m.\u001B[39;00m\u001B[38;5;21;01maqua\u001B[39;00m\u001B[38;5;21;01m.\u001B[39;00m\u001B[38;5;21;01moperators\u001B[39;00m \u001B[38;5;28;01mimport\u001B[39;00m WeightedPauliOperator\n\u001B[1;32m     28\u001B[0m \u001B[38;5;28;01mfrom\u001B[39;00m \u001B[38;5;21;01m.\u001B[39;00m\u001B[38;5;21;01mqiskit_chemistry_error\u001B[39;00m \u001B[38;5;28;01mimport\u001B[39;00m QiskitChemistryError\n",
      "File \u001B[0;32m~/opt/anaconda3/envs/ML/lib/python3.8/site-packages/qiskit/aqua/__init__.py:77\u001B[0m\n\u001B[1;32m     75\u001B[0m \u001B[38;5;28;01mfrom\u001B[39;00m \u001B[38;5;21;01m.\u001B[39;00m\u001B[38;5;21;01maqua_globals\u001B[39;00m \u001B[38;5;28;01mimport\u001B[39;00m aqua_globals\n\u001B[1;32m     76\u001B[0m \u001B[38;5;28;01mfrom\u001B[39;00m \u001B[38;5;21;01m.\u001B[39;00m\u001B[38;5;21;01mquantum_instance\u001B[39;00m \u001B[38;5;28;01mimport\u001B[39;00m QuantumInstance\n\u001B[0;32m---> 77\u001B[0m \u001B[38;5;28;01mfrom\u001B[39;00m \u001B[38;5;21;01m.\u001B[39;00m\u001B[38;5;21;01malgorithms\u001B[39;00m \u001B[38;5;28;01mimport\u001B[39;00m QuantumAlgorithm\n\u001B[1;32m     78\u001B[0m \u001B[38;5;28;01mfrom\u001B[39;00m \u001B[38;5;21;01m.\u001B[39;00m\u001B[38;5;21;01m_logging\u001B[39;00m \u001B[38;5;28;01mimport\u001B[39;00m (QiskitLogDomains,\n\u001B[1;32m     79\u001B[0m                        get_logging_level,\n\u001B[1;32m     80\u001B[0m                        set_logging_level,\n\u001B[0;32m   (...)\u001B[0m\n\u001B[1;32m     83\u001B[0m                        get_qiskit_aqua_logging,\n\u001B[1;32m     84\u001B[0m                        set_qiskit_aqua_logging)\n\u001B[1;32m     86\u001B[0m __all__ \u001B[38;5;241m=\u001B[39m [\u001B[38;5;124m'\u001B[39m\u001B[38;5;124m__version__\u001B[39m\u001B[38;5;124m'\u001B[39m,\n\u001B[1;32m     87\u001B[0m            \u001B[38;5;124m'\u001B[39m\u001B[38;5;124mAquaError\u001B[39m\u001B[38;5;124m'\u001B[39m,\n\u001B[1;32m     88\u001B[0m            \u001B[38;5;124m'\u001B[39m\u001B[38;5;124mQuantumAlgorithm\u001B[39m\u001B[38;5;124m'\u001B[39m,\n\u001B[0;32m   (...)\u001B[0m\n\u001B[1;32m     96\u001B[0m            \u001B[38;5;124m'\u001B[39m\u001B[38;5;124mget_qiskit_aqua_logging\u001B[39m\u001B[38;5;124m'\u001B[39m,\n\u001B[1;32m     97\u001B[0m            \u001B[38;5;124m'\u001B[39m\u001B[38;5;124mset_qiskit_aqua_logging\u001B[39m\u001B[38;5;124m'\u001B[39m]\n",
      "File \u001B[0;32m~/opt/anaconda3/envs/ML/lib/python3.8/site-packages/qiskit/aqua/algorithms/__init__.py:181\u001B[0m\n\u001B[1;32m     15\u001B[0m \u001B[38;5;124;03m\"\"\"\u001B[39;00m\n\u001B[1;32m     16\u001B[0m \u001B[38;5;124;03mAlgorithms (:mod:`qiskit.aqua.algorithms`)\u001B[39;00m\n\u001B[1;32m     17\u001B[0m \u001B[38;5;124;03m==========================================\u001B[39;00m\n\u001B[0;32m   (...)\u001B[0m\n\u001B[1;32m    177\u001B[0m \n\u001B[1;32m    178\u001B[0m \u001B[38;5;124;03m\"\"\"\u001B[39;00m\n\u001B[1;32m    180\u001B[0m \u001B[38;5;28;01mfrom\u001B[39;00m \u001B[38;5;21;01m.\u001B[39;00m\u001B[38;5;21;01malgorithm_result\u001B[39;00m \u001B[38;5;28;01mimport\u001B[39;00m AlgorithmResult\n\u001B[0;32m--> 181\u001B[0m \u001B[38;5;28;01mfrom\u001B[39;00m \u001B[38;5;21;01m.\u001B[39;00m\u001B[38;5;21;01mquantum_algorithm\u001B[39;00m \u001B[38;5;28;01mimport\u001B[39;00m QuantumAlgorithm\n\u001B[1;32m    182\u001B[0m \u001B[38;5;28;01mfrom\u001B[39;00m \u001B[38;5;21;01m.\u001B[39;00m\u001B[38;5;21;01mclassical_algorithm\u001B[39;00m \u001B[38;5;28;01mimport\u001B[39;00m ClassicalAlgorithm\n\u001B[1;32m    183\u001B[0m \u001B[38;5;28;01mfrom\u001B[39;00m \u001B[38;5;21;01m.\u001B[39;00m\u001B[38;5;21;01mvq_algorithm\u001B[39;00m \u001B[38;5;28;01mimport\u001B[39;00m VQAlgorithm, VQResult\n",
      "File \u001B[0;32m~/opt/anaconda3/envs/ML/lib/python3.8/site-packages/qiskit/aqua/algorithms/quantum_algorithm.py:25\u001B[0m\n\u001B[1;32m     23\u001B[0m \u001B[38;5;28;01mfrom\u001B[39;00m \u001B[38;5;21;01mabc\u001B[39;00m \u001B[38;5;28;01mimport\u001B[39;00m ABC, abstractmethod\n\u001B[1;32m     24\u001B[0m \u001B[38;5;28;01mfrom\u001B[39;00m \u001B[38;5;21;01mtyping\u001B[39;00m \u001B[38;5;28;01mimport\u001B[39;00m Union, Dict, Optional\n\u001B[0;32m---> 25\u001B[0m \u001B[38;5;28;01mfrom\u001B[39;00m \u001B[38;5;21;01mqiskit\u001B[39;00m\u001B[38;5;21;01m.\u001B[39;00m\u001B[38;5;21;01mproviders\u001B[39;00m \u001B[38;5;28;01mimport\u001B[39;00m BaseBackend\n\u001B[1;32m     26\u001B[0m \u001B[38;5;28;01mfrom\u001B[39;00m \u001B[38;5;21;01mqiskit\u001B[39;00m\u001B[38;5;21;01m.\u001B[39;00m\u001B[38;5;21;01maqua\u001B[39;00m \u001B[38;5;28;01mimport\u001B[39;00m aqua_globals, QuantumInstance, AquaError\n\u001B[1;32m     29\u001B[0m \u001B[38;5;28;01mclass\u001B[39;00m \u001B[38;5;21;01mQuantumAlgorithm\u001B[39;00m(ABC):\n",
      "\u001B[0;31mImportError\u001B[0m: cannot import name 'BaseBackend' from 'qiskit.providers' (/Users/devrajsinhgohil/opt/anaconda3/envs/ML/lib/python3.8/site-packages/qiskit/providers/__init__.py)"
     ]
    }
   ],
   "source": [
    "import numpy as np\n",
    "import pylab\n",
    "import copy\n",
    "from qiskit import *\n",
    "# from qiskit.aqua import aqua_globals\n",
    "from qiskit.utils import QuantumInstance, algorithm_globals\n",
    "from qiskit.algorithms import NumPyMinimumEigensolver, VQE\n",
    "from qiskit.algorithms.optimizers import SLSQP\n",
    "from qiskit.chemistry.components.initial_states.hartree_fock import HartreeFock\n",
    "from qiskit.chemistry.components.variational_forms import UCCSD\n",
    "from qiskit.chemistry.drivers import PySCFDriver\n",
    "from qiskit.chemistry.core import Hamiltonian, QubitMappingType"
   ]
  },
  {
   "cell_type": "code",
   "execution_count": null,
   "outputs": [],
   "source": [],
   "metadata": {
    "collapsed": false
   }
  }
 ],
 "metadata": {
  "kernelspec": {
   "display_name": "Python 3",
   "language": "python",
   "name": "python3"
  },
  "language_info": {
   "codemirror_mode": {
    "name": "ipython",
    "version": 2
   },
   "file_extension": ".py",
   "mimetype": "text/x-python",
   "name": "python",
   "nbconvert_exporter": "python",
   "pygments_lexer": "ipython2",
   "version": "2.7.6"
  }
 },
 "nbformat": 4,
 "nbformat_minor": 0
}
